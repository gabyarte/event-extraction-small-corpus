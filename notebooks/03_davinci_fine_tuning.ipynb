{
 "cells": [
  {
   "cell_type": "code",
   "execution_count": 1,
   "metadata": {},
   "outputs": [],
   "source": [
    "%load_ext autoreload\n",
    "%autoreload 2"
   ]
  },
  {
   "cell_type": "code",
   "execution_count": 2,
   "metadata": {},
   "outputs": [],
   "source": [
    "import os\n",
    "import openai\n",
    "\n",
    "from dotenv import load_dotenv\n",
    "\n",
    "load_dotenv()\n",
    "\n",
    "openai.api_key = os.getenv('OPENAI_KEY')"
   ]
  },
  {
   "cell_type": "code",
   "execution_count": 53,
   "metadata": {},
   "outputs": [],
   "source": [
    "from utils.constants import STAGE_DIR\n",
    "from utils.functions import get_dict_from_data\n",
    "\n",
    "with open(STAGE_DIR / 'previous-work' / 'EVAL_DATA.txt') as f:\n",
    "    eval_data = f.read()\n",
    "\n",
    "evaluation_data = get_dict_from_data(eval_data)"
   ]
  },
  {
   "cell_type": "code",
   "execution_count": 54,
   "metadata": {},
   "outputs": [],
   "source": [
    "with open(STAGE_DIR / 'previous-work' / 'TRAINING_HOHFELD.txt') as f:\n",
    "    train_data = f.read()\n",
    "\n",
    "training_data = get_dict_from_data(train_data)"
   ]
  },
  {
   "cell_type": "code",
   "execution_count": 57,
   "metadata": {},
   "outputs": [],
   "source": [
    "from utils.functions import prepare_data_for_fine_tune\n",
    "\n",
    "fine_tune_train_data = prepare_data_for_fine_tune(training_data)\n",
    "fine_tune_eval_data = prepare_data_for_fine_tune(evaluation_data)"
   ]
  },
  {
   "cell_type": "code",
   "execution_count": 58,
   "metadata": {},
   "outputs": [],
   "source": [
    "import json\n",
    "\n",
    "with open(STAGE_DIR / 'fine-tuning' / 'training-data.json', 'w') as f:\n",
    "    json.dump(fine_tune_train_data, f)\n",
    "\n",
    "with open(STAGE_DIR / 'fine-tuning' / 'evaluation-data.json', 'w') as f:\n",
    "    json.dump(fine_tune_eval_data, f)"
   ]
  },
  {
   "cell_type": "code",
   "execution_count": 68,
   "metadata": {},
   "outputs": [],
   "source": [
    "import jsonlines\n",
    "\n",
    "with jsonlines.open(STAGE_DIR / 'fine-tuning' / 'training-data.jsonl', 'w') as f:\n",
    "    f.write_all(fine_tune_train_data)\n",
    "\n",
    "with jsonlines.open(STAGE_DIR / 'fine-tuning' / 'evaluation-data.jsonl', 'w') as f:\n",
    "    f.write_all(fine_tune_eval_data)"
   ]
  },
  {
   "cell_type": "code",
   "execution_count": 3,
   "metadata": {},
   "outputs": [],
   "source": [
    "import openai\n",
    "\n",
    "prompt = \"Los trabajadores menores de dieciocho años no podrán realizar trabajos nocturnos ni aquellas actividades o puestos de trabajo respecto a los que se establezcan limitaciones a su contratación conforme a lo dispuesto en la Ley 31/1995, de 8 de noviembre, de Prevención de Riesgos Laborales, y en las normas reglamentarias aplicables\\n\\n###\\n\\n\"\n",
    "\n",
    "response = openai.Completion.create(\n",
    "        model='davinci:ft-personal:event-extraction-2023-07-04-00-22-22',\n",
    "        prompt=prompt\n",
    "    )"
   ]
  },
  {
   "cell_type": "code",
   "execution_count": 5,
   "metadata": {},
   "outputs": [
    {
     "data": {
      "text/plain": [
       "' trabajadores menores de dieciocho años /'"
      ]
     },
     "execution_count": 5,
     "metadata": {},
     "output_type": "execute_result"
    }
   ],
   "source": [
    "response['choices'][0]['text']"
   ]
  }
 ],
 "metadata": {
  "kernelspec": {
   "display_name": "event-extraction",
   "language": "python",
   "name": "python3"
  },
  "language_info": {
   "codemirror_mode": {
    "name": "ipython",
    "version": 3
   },
   "file_extension": ".py",
   "mimetype": "text/x-python",
   "name": "python",
   "nbconvert_exporter": "python",
   "pygments_lexer": "ipython3",
   "version": "3.9.16"
  },
  "orig_nbformat": 4
 },
 "nbformat": 4,
 "nbformat_minor": 2
}
