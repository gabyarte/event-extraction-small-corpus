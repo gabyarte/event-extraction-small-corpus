{
 "cells": [
  {
   "cell_type": "code",
   "execution_count": 1,
   "metadata": {},
   "outputs": [],
   "source": [
    "%load_ext autoreload\n",
    "%autoreload 2"
   ]
  },
  {
   "cell_type": "code",
   "execution_count": 61,
   "metadata": {},
   "outputs": [],
   "source": [
    "import os\n",
    "import openai\n",
    "\n",
    "from dotenv import load_dotenv\n",
    "\n",
    "load_dotenv()\n",
    "\n",
    "openai.api_key = os.getenv('OPENAI_KEY')"
   ]
  },
  {
   "cell_type": "code",
   "execution_count": 53,
   "metadata": {},
   "outputs": [],
   "source": [
    "from utils.constants import STAGE_DIR\n",
    "from utils.functions import get_dict_from_data\n",
    "\n",
    "with open(STAGE_DIR / 'previous-work' / 'EVAL_DATA.txt') as f:\n",
    "    eval_data = f.read()\n",
    "\n",
    "evaluation_data = get_dict_from_data(eval_data)"
   ]
  },
  {
   "cell_type": "code",
   "execution_count": 54,
   "metadata": {},
   "outputs": [],
   "source": [
    "with open(STAGE_DIR / 'previous-work' / 'TRAINING_HOHFELD.txt') as f:\n",
    "    train_data = f.read()\n",
    "\n",
    "training_data = get_dict_from_data(train_data)"
   ]
  },
  {
   "cell_type": "code",
   "execution_count": 57,
   "metadata": {},
   "outputs": [],
   "source": [
    "from utils.functions import prepare_data_for_fine_tune\n",
    "\n",
    "fine_tune_train_data = prepare_data_for_fine_tune(training_data)\n",
    "fine_tune_eval_data = prepare_data_for_fine_tune(evaluation_data)"
   ]
  },
  {
   "cell_type": "code",
   "execution_count": 58,
   "metadata": {},
   "outputs": [],
   "source": [
    "import json\n",
    "\n",
    "with open(STAGE_DIR / 'fine-tuning' / 'training-data.json', 'w') as f:\n",
    "    json.dump(fine_tune_train_data, f)\n",
    "\n",
    "with open(STAGE_DIR / 'fine-tuning' / 'evaluation-data.json', 'w') as f:\n",
    "    json.dump(fine_tune_eval_data, f)"
   ]
  },
  {
   "cell_type": "code",
   "execution_count": 62,
   "metadata": {},
   "outputs": [
    {
     "name": "stderr",
     "output_type": "stream",
     "text": [
      "\u001b[91mError:\u001b[0m No API key provided. You can set your API key in code using 'openai.api_key = <API-KEY>', or you can set the environment variable OPENAI_API_KEY=<API-KEY>). If your API key is stored in a file, you can point the openai module at it with 'openai.api_key_path = <PATH>'. You can generate API keys in the OpenAI web interface. See https://platform.openai.com/account/api-keys for details.\n"
     ]
    }
   ],
   "source": [
    "!openai api fine_tunes.create -t \"data/stage/fine-tuning/training-data.json\" -v \"data/stage/fine-tuning/evaluation-data.json\" -m \"davinci\" --suffix \"event extraction\""
   ]
  }
 ],
 "metadata": {
  "kernelspec": {
   "display_name": "event-extraction",
   "language": "python",
   "name": "python3"
  },
  "language_info": {
   "codemirror_mode": {
    "name": "ipython",
    "version": 3
   },
   "file_extension": ".py",
   "mimetype": "text/x-python",
   "name": "python",
   "nbconvert_exporter": "python",
   "pygments_lexer": "ipython3",
   "version": "3.9.16"
  },
  "orig_nbformat": 4
 },
 "nbformat": 4,
 "nbformat_minor": 2
}
