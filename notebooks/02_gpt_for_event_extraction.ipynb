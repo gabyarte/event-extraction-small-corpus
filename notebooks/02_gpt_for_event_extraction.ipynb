{
 "cells": [
  {
   "cell_type": "code",
   "execution_count": 3,
   "metadata": {},
   "outputs": [],
   "source": [
    "%load_ext autoreload\n",
    "%autoreload 2"
   ]
  },
  {
   "cell_type": "code",
   "execution_count": 1,
   "metadata": {},
   "outputs": [],
   "source": [
    "import os\n",
    "import openai\n",
    "\n",
    "from dotenv import load_dotenv\n",
    "\n",
    "load_dotenv()\n",
    "\n",
    "openai.api_key = os.getenv('OPENAI_KEY')"
   ]
  },
  {
   "cell_type": "code",
   "execution_count": 2,
   "metadata": {},
   "outputs": [],
   "source": [
    "def get_completion(prompt, model=\"gpt-3.5-turbo\"):\n",
    "    messages = [{\"role\": \"user\", \"content\": prompt}]\n",
    "    response = openai.ChatCompletion.create(\n",
    "        model=model,\n",
    "        messages=messages,\n",
    "        temperature=0, # this is the degree of randomness of the model's output\n",
    "    )\n",
    "    return response.choices[0].message[\"content\"]"
   ]
  },
  {
   "attachments": {},
   "cell_type": "markdown",
   "metadata": {},
   "source": [
    "# First experiment"
   ]
  },
  {
   "cell_type": "code",
   "execution_count": null,
   "metadata": {},
   "outputs": [],
   "source": [
    "from utils.constants import STAGE_DIR\n",
    "\n",
    "with open(STAGE_DIR / '01_sentences.txt', 'r') as f:\n",
    "    sentences = f.readlines()"
   ]
  },
  {
   "cell_type": "code",
   "execution_count": 4,
   "metadata": {},
   "outputs": [],
   "source": [
    "sentences = '''\n",
    "Los trabajadores tienen como derechos básicos, con el contenido y alcance que para cada uno de los mismos disponga su específica normativa, los de Negociación colectiva\n",
    "\n",
    "Los trabajadores menores de dieciocho años no podrán realizar trabajos nocturnos ni aquellas actividades o puestos de trabajo respecto a los que se establezcan limitaciones a su contratación conforme a lo dispuesto en la Ley 31/1995, de 8 de noviembre, de Prevención de Riesgos Laborales, y en las normas reglamentarias aplicables\n",
    "\n",
    "Si el representante legal de una persona de capacidad limitada la autoriza expresa o tácitamente para realizar un trabajo, queda esta también autorizada para ejercitar los derechos y cumplir los deberes que se derivan de su contrato y para su cesación\n",
    "\n",
    "Podrán contratar la prestación de su trabajo Los extranjeros, de acuerdo con lo dispuesto en la legislación específica sobre la materia\n",
    "\n",
    "El contrato de trabajo se podrá celebrar por escrito o de palabra\n",
    "'''\n",
    "\n",
    "prompt = f'''\n",
    "Given a large set of sentences in spanish from the legal domain, written between triple backticks, your objective is to develop a spanish event extraction task. The steps to achieve it are the following:\n",
    "1. Identify each sentence in the corpus separated for new lines.\n",
    "2. In each sentence detect a subject entity, an object entity and an event trigger, usually in the form of a verb. It can happen that a sentence relates more than one object entity with the same subject and event trigger. The sentences can contain entities and phrases that don't correspond to any classification. Also, the object can be separated from the subject and event trigger by these complements. The definitions of each category are the following:\n",
    "    * event trigger: It refers to the action that is enforced by the legal text. It can be in a negative form, e.g. \"no pueden\".\n",
    "    * subject entity: It refers to the entity that most follow, do the action of the event trigger.\n",
    "    * object entity: It refers to the entity that is the receptor of the action. In the legal domain, it can be, for example, a right, a beneficiary from the action, an institution, a non-right, etc. \n",
    "    \n",
    "    Example 1:\n",
    "    Input: Cuando la relación laboral sea de duración superior a cuatro semanas, el empresario deberá informar por escrito, en los términos y plazos que se establezcan reglamentariamente, al trabajador sobre los elementos esenciales del contrato y las principales condiciones de ejecución de la prestación laboral, siempre que tales elementos y condiciones no figuren en el contrato de trabajo formalizado por escrito.\n",
    "    Output:\n",
    "        * subject entity: \"empresario\"\n",
    "        * object entity: \"trabajador\"\n",
    "        * event trigger: \"deberá informar por escrito\"\n",
    "        \n",
    "    Example 2:\n",
    "    Input: La denegación de la solicitud deberá ser notificada por el empresario al trabajador por escrito y de manera motivada.\n",
    "    Output:\n",
    "        * subject entity: \"empresario\"\n",
    "        * object entity: \"trabajador\"\n",
    "        * event trigger: \"deberá ser notificada\"\n",
    "\n",
    "3. The output of the task should be a list of dictionaries, each dictionary contains the following keys:\n",
    "    - sentence: the sentence\n",
    "    - subject: the subject entity\n",
    "    - object: the object entity\n",
    "    - event: the event trigger\n",
    "Note that it can be repeated sentences because of the different subject-event-object combinations.\n",
    "\n",
    "The set of sentences in spanish to use is the following:\n",
    "\n",
    "```\n",
    "{sentences}\n",
    "```\n",
    "'''"
   ]
  },
  {
   "cell_type": "code",
   "execution_count": 6,
   "metadata": {},
   "outputs": [
    {
     "data": {
      "text/plain": [
       "'Output:\\n```\\n[\\n    {\\n        \"sentence\": \"Los trabajadores tienen como derechos básicos, con el contenido y alcance que para cada uno de los mismos disponga su específica normativa, los de Negociación colectiva\",\\n        \"subject\": \"trabajadores\",\\n        \"object\": \"Negociación colectiva\",\\n        \"event\": \"tienen como derechos básicos\"\\n    },\\n    {\\n        \"sentence\": \"Los trabajadores menores de dieciocho años no podrán realizar trabajos nocturnos ni aquellas actividades o puestos de trabajo respecto a los que se establezcan limitaciones a su contratación conforme a lo dispuesto en la Ley 31/1995, de 8 de noviembre, de Prevención de Riesgos Laborales, y en las normas reglamentarias aplicables\",\\n        \"subject\": \"trabajadores menores de dieciocho años\",\\n        \"object\": \"trabajos nocturnos ni aquellas actividades o puestos de trabajo respecto a los que se establezcan limitaciones a su contratación\",\\n        \"event\": \"no podrán realizar\"\\n    },\\n    {\\n        \"sentence\": \"Si el representante legal de una persona de capacidad limitada la autoriza expresa o tácitamente para realizar un trabajo, queda esta también autorizada para ejercitar los derechos y cumplir los deberes que se derivan de su contrato y para su cesación\",\\n        \"subject\": \"representante legal de una persona de capacidad limitada\",\\n        \"object\": \"derechos y cumplir los deberes que se derivan de su contrato y para su cesación\",\\n        \"event\": \"autoriza\"\\n    },\\n    {\\n        \"sentence\": \"Podrán contratar la prestación de su trabajo Los extranjeros, de acuerdo con lo dispuesto en la legislación específica sobre la materia\",\\n        \"subject\": \"extranjeros\",\\n        \"object\": \"prestación de su trabajo\",\\n        \"event\": \"Podrán contratar\"\\n    },\\n    {\\n        \"sentence\": \"El contrato de trabajo se podrá celebrar por escrito o de palabra\",\\n        \"subject\": \"contrato de trabajo\",\\n        \"object\": \"\",\\n        \"event\": \"se podrá celebrar\"\\n    }\\n]\\n```'"
      ]
     },
     "execution_count": 6,
     "metadata": {},
     "output_type": "execute_result"
    }
   ],
   "source": [
    "response = get_completion(prompt)"
   ]
  },
  {
   "cell_type": "code",
   "execution_count": 7,
   "metadata": {},
   "outputs": [
    {
     "name": "stdout",
     "output_type": "stream",
     "text": [
      "Output:\n",
      "```\n",
      "[\n",
      "    {\n",
      "        \"sentence\": \"Los trabajadores tienen como derechos básicos, con el contenido y alcance que para cada uno de los mismos disponga su específica normativa, los de Negociación colectiva\",\n",
      "        \"subject\": \"trabajadores\",\n",
      "        \"object\": \"Negociación colectiva\",\n",
      "        \"event\": \"tienen como derechos básicos\"\n",
      "    },\n",
      "    {\n",
      "        \"sentence\": \"Los trabajadores menores de dieciocho años no podrán realizar trabajos nocturnos ni aquellas actividades o puestos de trabajo respecto a los que se establezcan limitaciones a su contratación conforme a lo dispuesto en la Ley 31/1995, de 8 de noviembre, de Prevención de Riesgos Laborales, y en las normas reglamentarias aplicables\",\n",
      "        \"subject\": \"trabajadores menores de dieciocho años\",\n",
      "        \"object\": \"trabajos nocturnos ni aquellas actividades o puestos de trabajo respecto a los que se establezcan limitaciones a su contratación\",\n",
      "        \"event\": \"no podrán realizar\"\n",
      "    },\n",
      "    {\n",
      "        \"sentence\": \"Si el representante legal de una persona de capacidad limitada la autoriza expresa o tácitamente para realizar un trabajo, queda esta también autorizada para ejercitar los derechos y cumplir los deberes que se derivan de su contrato y para su cesación\",\n",
      "        \"subject\": \"representante legal de una persona de capacidad limitada\",\n",
      "        \"object\": \"derechos y cumplir los deberes que se derivan de su contrato y para su cesación\",\n",
      "        \"event\": \"autoriza\"\n",
      "    },\n",
      "    {\n",
      "        \"sentence\": \"Podrán contratar la prestación de su trabajo Los extranjeros, de acuerdo con lo dispuesto en la legislación específica sobre la materia\",\n",
      "        \"subject\": \"extranjeros\",\n",
      "        \"object\": \"prestación de su trabajo\",\n",
      "        \"event\": \"Podrán contratar\"\n",
      "    },\n",
      "    {\n",
      "        \"sentence\": \"El contrato de trabajo se podrá celebrar por escrito o de palabra\",\n",
      "        \"subject\": \"contrato de trabajo\",\n",
      "        \"object\": \"\",\n",
      "        \"event\": \"se podrá celebrar\"\n",
      "    }\n",
      "]\n",
      "```\n"
     ]
    }
   ],
   "source": [
    "print(response)"
   ]
  },
  {
   "attachments": {},
   "cell_type": "markdown",
   "metadata": {},
   "source": [
    "# Experiments with `PlanTL-GOB-ES/RoBERTalex`"
   ]
  },
  {
   "cell_type": "code",
   "execution_count": null,
   "metadata": {},
   "outputs": [],
   "source": [
    "from transformers import AutoModelForMaskedLM\n",
    "from transformers import AutoTokenizer, FillMaskPipeline\n",
    "from pprint import pprint\n",
    "tokenizer_hf = AutoTokenizer.from_pretrained('PlanTL-GOB-ES/RoBERTalex')\n",
    "model = AutoModelForMaskedLM.from_pretrained('PlanTL-GOB-ES/RoBERTalex')\n",
    "model.eval()\n",
    "pipeline = FillMaskPipeline(model, tokenizer_hf)\n",
    "text = f\"¡Hola <mask>!\"\n",
    "res_hf = pipeline(text)\n",
    "pprint([r['token_str'] for r in res_hf])"
   ]
  },
  {
   "cell_type": "code",
   "execution_count": null,
   "metadata": {},
   "outputs": [],
   "source": [
    "tokenizer_hf = AutoTokenizer.from_pretrained('PlanTL-GOB-ES/RoBERTalex')\n",
    "model = AutoModelForMaskedLM.from_pretrained('PlanTL-GOB-ES/RoBERTalex')\n",
    "model.eval()\n",
    "pipeline = FillMaskPipeline(model, tokenizer_hf)\n",
    "text = f\"El contrato de trabajo se podrá <mask>\"\n",
    "res_hf = pipeline(text)\n",
    "\n",
    "pprint([r['token_str'] for r in res_hf])"
   ]
  },
  {
   "cell_type": "code",
   "execution_count": null,
   "metadata": {},
   "outputs": [],
   "source": [
    "print(res_hf)"
   ]
  },
  {
   "cell_type": "code",
   "execution_count": null,
   "metadata": {},
   "outputs": [],
   "source": [
    "seed = f\"El contrato de trabajo se podrá <mask>\"\n",
    "i = 10\n",
    "while i:\n",
    "    tokenizer_hf = AutoTokenizer.from_pretrained('PlanTL-GOB-ES/RoBERTalex')\n",
    "    model = AutoModelForMaskedLM.from_pretrained('PlanTL-GOB-ES/RoBERTalex')\n",
    "    model.eval()\n",
    "    pipeline = FillMaskPipeline(model, tokenizer_hf)\n",
    "    res_hf = pipeline(seed)\n",
    "    max_score_sequence = max(res_hf, key=lambda x: x['score'])['sequence']\n",
    "    seed = max_score_sequence + ' <mask>'\n",
    "    i -= 1\n",
    "\n",
    "print(seed)"
   ]
  },
  {
   "cell_type": "code",
   "execution_count": null,
   "metadata": {},
   "outputs": [],
   "source": [
    "from transformers import AutoTokenizer, AutoModelForCausalLM, pipeline, set_seed\n",
    "tokenizer = AutoTokenizer.from_pretrained(\"PlanTL-GOB-ES/gpt2-large-bne\")\n",
    "model = AutoModelForCausalLM.from_pretrained(\"PlanTL-GOB-ES/gpt2-large-bne\")\n",
    "generator = pipeline('text-generation', tokenizer=tokenizer, model=model)\n",
    "set_seed(42)\n",
    "generator(\"Los  \", num_return_sequences=5)"
   ]
  },
  {
   "attachments": {},
   "cell_type": "markdown",
   "metadata": {},
   "source": [
    "# Zero-shot experiment"
   ]
  },
  {
   "cell_type": "code",
   "execution_count": 6,
   "metadata": {},
   "outputs": [],
   "source": [
    "from utils.constants import STAGE_DIR\n",
    "\n",
    "with open(STAGE_DIR / 'previous-work' / 'EVAL_DATA.txt') as f:\n",
    "    sentences = f.read()"
   ]
  },
  {
   "cell_type": "code",
   "execution_count": 10,
   "metadata": {},
   "outputs": [],
   "source": [
    "import re\n",
    "\n",
    "sentences_re = re.split(r'\\d+\\t', sentences)"
   ]
  },
  {
   "cell_type": "code",
   "execution_count": 13,
   "metadata": {},
   "outputs": [],
   "source": [
    "sentences_f = list(map(lambda x: x.split('\\n')[0], sentences_re[1:]))"
   ]
  },
  {
   "cell_type": "code",
   "execution_count": 92,
   "metadata": {},
   "outputs": [],
   "source": [
    "evaluation_data = []\n",
    "for sentence in sentences_f:\n",
    "    sentence_data = {}\n",
    "    sentence_data['text'] = ''.join(\n",
    "        re.split(r'\\<\\w+\\>|\\</\\w+\\>', sentence))\n",
    "    subject = re.search(\n",
    "        r'(?<=\\<e1\\>)(.+)(?=\\</e1\\>)', sentence\n",
    "    )\n",
    "    sentence_data['subject'] = subject.group(0) if subject else None\n",
    "    object = re.search(\n",
    "        r'(?<=\\<e2\\>)(.+)(?=\\</e2\\>)', sentence\n",
    "    )\n",
    "    sentence_data['object'] = object.group(0) if object else None\n",
    "    event = re.search(\n",
    "        r'(?<=\\<rel\\>)(.+)(?=\\</rel\\>)', sentence\n",
    "    )\n",
    "    sentence_data['event'] = event.group(0) if event else None\n",
    "    complement = re.search(\n",
    "        r'(?<=\\<comp\\>)(.+)(?=\\</comp\\>)', sentence\n",
    "    )\n",
    "    sentence_data['complement'] = complement.group(0) if complement else None\n",
    "    evaluation_data.append(sentence_data)"
   ]
  },
  {
   "cell_type": "code",
   "execution_count": 98,
   "metadata": {},
   "outputs": [
    {
     "data": {
      "text/plain": [
       "[{'text': 'Los trabajos realizados a título de amistad, benevolencia o buena vecindad.',\n",
       "  'subject': 'vecindad',\n",
       "  'object': 'trabajos',\n",
       "  'event': 'realizados',\n",
       "  'complement': None},\n",
       " {'text': 'Las situaciones de incapacidad temporal, nacimiento, adopción, guarda con fines de adopción, acogimiento, riesgo durante el embarazo, riesgo durante la lactancia y violencia de género interrumpirán el cómputo de la duración del contrato.',\n",
       "  'subject': 'contrato',\n",
       "  'object': None,\n",
       "  'event': 'interrumpirán',\n",
       "  'complement': None},\n",
       " {'text': 'Si el trabajador tuviera asignadas condiciones o retribuciones especiales en virtud de contraprestaciones establecidas en la parte no válida del contrato, el órgano de la jurisdicción social que a instancia de parte declare la nulidad hará el debido pronunciamiento sobre la subsistencia o supresión en todo o en parte de dichas condiciones o retribuciones.',\n",
       "  'subject': 'órgano de la jurisdicción social',\n",
       "  'object': 'trabajador',\n",
       "  'event': 'hará',\n",
       "  'complement': 'pronunciamiento'},\n",
       " {'text': 'En caso de nulidad por discriminación salarial por razón de sexo, el trabajador tendrá derecho a la retribución correspondiente al trabajo igual o de igual valor.',\n",
       "  'subject': 'trabajador',\n",
       "  'object': None,\n",
       "  'event': 'tendrá derecho',\n",
       "  'complement': 'retribución'},\n",
       " {'text': 'Si el empresario diera un trabajo en común a un grupo de sus trabajadores, conservará respecto de cada uno, individualmente, sus derechos y deberes.',\n",
       "  'subject': 'empresario',\n",
       "  'object': 'trabajadores',\n",
       "  'event': 'conservará',\n",
       "  'complement': 'derechos y deberes'},\n",
       " {'text': 'El jefe del grupo ostentará la representación de los que lo integren, respondiendo de las obligaciones inherentes a dicha representación.',\n",
       "  'subject': 'jefe del grupo',\n",
       "  'object': None,\n",
       "  'event': 'ostentará',\n",
       "  'complement': 'representación'},\n",
       " {'text': 'Si el empresario hubiese celebrado un contrato con un grupo de trabajadores considerado en su totalidad, no tendrá frente a cada uno de sus miembros los derechos y deberes que como tal le competen.',\n",
       "  'subject': 'empresario',\n",
       "  'object': 'grupo de trabajadores',\n",
       "  'event': 'no tendrá',\n",
       "  'complement': 'derechos y deberes'},\n",
       " {'text': 'Tampoco se podrá estar contratado en prácticas en la misma empresa para el mismo puesto de trabajo por tiempo superior a dos años, aunque se trate de distinta titulación o distinto certificado de profesionalidad.',\n",
       "  'subject': 'empresa',\n",
       "  'object': None,\n",
       "  'event': 'Tampoco se podrá estar',\n",
       "  'complement': 'contratado en prácticas'},\n",
       " {'text': 'A los efectos de este artículo, los títulos de grado, máster y, en su caso, doctorado, correspondientes a los estudios universitarios no se considerarán la misma titulación, salvo que al ser contratado por primera vez mediante un contrato en prácticas el trabajador estuviera ya en posesión del título superior de que se trate.',\n",
       "  'subject': 'trabajador',\n",
       "  'object': 'títulos de grado',\n",
       "  'event': 'estuviera',\n",
       "  'complement': None},\n",
       " {'text': 'Si al término del contrato el trabajador continuase en la empresa no podrá concertarse un nuevo periodo de prueba, computándose la duración de las prácticas a efecto de antigüedad en la empresa.',\n",
       "  'subject': 'empresa',\n",
       "  'object': 'trabajador',\n",
       "  'event': 'no podrá concertarse',\n",
       "  'complement': 'periodo de prueba'},\n",
       " {'text': 'No se podrán celebrar contratos para la formación y el aprendizaje cuando el puesto de trabajo correspondiente al contrato haya sido desempeñado con anterioridad por el trabajador en la misma empresa por tiempo superior a doce meses.',\n",
       "  'subject': 'empresa',\n",
       "  'object': 'trabajador',\n",
       "  'event': 'No se podrán celebrar</rel> <comp>contratos',\n",
       "  'complement': None},\n",
       " {'text': 'No obstante, también podrá recibir dicha formación en la propia empresa cuando la misma dispusiera de las instalaciones y el personal adecuados a los efectos de la acreditación de la competencia o cualificación profesional a que se refiere la letra e), sin perjuicio de la necesidad, en su caso, de la realización de periodos de formación complementarios en los centros de la red mencionada.',\n",
       "  'subject': None,\n",
       "  'object': 'empresa',\n",
       "  'event': 'podrá recibir',\n",
       "  'complement': 'formación'},\n",
       " {'text': 'El empresario y la representación de los trabajadores podrán acordar en cualquier momento la sustitución del periodo de consultas por el procedimiento de mediación o arbitraje que sea de aplicación en el ámbito de la empresa, que deberá desarrollarse dentro del plazo máximo señalado para dicho periodo.',\n",
       "  'subject': 'empresario',\n",
       "  'object': 'representación de los trabajadores',\n",
       "  'event': 'podrán acordar',\n",
       "  'complement': 'sustitución del periodo de consultas'}]"
      ]
     },
     "execution_count": 98,
     "metadata": {},
     "output_type": "execute_result"
    }
   ],
   "source": [
    "evaluation_data"
   ]
  },
  {
   "cell_type": "code",
   "execution_count": 93,
   "metadata": {},
   "outputs": [],
   "source": [
    "sentences = \"\\n\\n\".join(sentence_data['text'] for sentence_data in evaluation_data)"
   ]
  },
  {
   "cell_type": "code",
   "execution_count": 173,
   "metadata": {},
   "outputs": [],
   "source": [
    "prompt = f'''\n",
    "We are interested in extracting event information from spanish legal text. For that, we define the following roles for an event.\n",
    "- subject: Agent of the action, who performs the action.\n",
    "- event trigger: Action\n",
    "- object: Receiver of the action.\n",
    "- complement: Item which is handled in the relation.\n",
    "\n",
    "Given a large set of sentences in spanish from the legal domain, written between triple backticks, your objective is to extract the roles from the text written in Spanish following the next steps:\n",
    "1. Identify each sentence in the corpus separated for new lines.\n",
    "2. In each sentence detect a subject entity, an object entity, an event trigger and a complement following the previous definitions and examples.\n",
    "3. The output of the task should be a list of dictionaries, each dictionary contains the following keys:\n",
    "    - sentence: the sentence\n",
    "    - subject: the subject entity\n",
    "    - object: the object entity\n",
    "    - event: the event trigger\n",
    "    - complement: the complement\n",
    "\n",
    "The set of sentences in spanish to use is the following:\n",
    "\n",
    "```\n",
    "{sentences}\n",
    "```\n",
    "'''"
   ]
  },
  {
   "cell_type": "code",
   "execution_count": 174,
   "metadata": {},
   "outputs": [
    {
     "name": "stdout",
     "output_type": "stream",
     "text": [
      "\n",
      "We are interested in extracting event information from spanish legal text. For that, we define the following roles for an event.\n",
      "- subject: Agent of the action, who performs the action.\n",
      "- event trigger: Action\n",
      "- object: Receiver of the action.\n",
      "- complement: Item which is handled in the relation.\n",
      "\n",
      "Given a large set of sentences in spanish from the legal domain, written between triple backticks, your objective is to extract the roles from the text written in Spanish following the next steps:\n",
      "1. Identify each sentence in the corpus separated for new lines.\n",
      "2. In each sentence detect a subject entity, an object entity, an event trigger and a complement following the previous definitions and examples.\n",
      "3. The output of the task should be a list of dictionaries, each dictionary contains the following keys:\n",
      "    - sentence: the sentence\n",
      "    - subject: the subject entity\n",
      "    - object: the object entity\n",
      "    - event: the event trigger\n",
      "    - complement: the complement\n",
      "\n",
      "The set of sentences in spanish to use is the following:\n",
      "\n",
      "```\n",
      "Los trabajos realizados a título de amistad, benevolencia o buena vecindad.\n",
      "\n",
      "Las situaciones de incapacidad temporal, nacimiento, adopción, guarda con fines de adopción, acogimiento, riesgo durante el embarazo, riesgo durante la lactancia y violencia de género interrumpirán el cómputo de la duración del contrato.\n",
      "\n",
      "Si el trabajador tuviera asignadas condiciones o retribuciones especiales en virtud de contraprestaciones establecidas en la parte no válida del contrato, el órgano de la jurisdicción social que a instancia de parte declare la nulidad hará el debido pronunciamiento sobre la subsistencia o supresión en todo o en parte de dichas condiciones o retribuciones.\n",
      "\n",
      "En caso de nulidad por discriminación salarial por razón de sexo, el trabajador tendrá derecho a la retribución correspondiente al trabajo igual o de igual valor.\n",
      "\n",
      "Si el empresario diera un trabajo en común a un grupo de sus trabajadores, conservará respecto de cada uno, individualmente, sus derechos y deberes.\n",
      "\n",
      "El jefe del grupo ostentará la representación de los que lo integren, respondiendo de las obligaciones inherentes a dicha representación.\n",
      "\n",
      "Si el empresario hubiese celebrado un contrato con un grupo de trabajadores considerado en su totalidad, no tendrá frente a cada uno de sus miembros los derechos y deberes que como tal le competen.\n",
      "\n",
      "Tampoco se podrá estar contratado en prácticas en la misma empresa para el mismo puesto de trabajo por tiempo superior a dos años, aunque se trate de distinta titulación o distinto certificado de profesionalidad.\n",
      "\n",
      "A los efectos de este artículo, los títulos de grado, máster y, en su caso, doctorado, correspondientes a los estudios universitarios no se considerarán la misma titulación, salvo que al ser contratado por primera vez mediante un contrato en prácticas el trabajador estuviera ya en posesión del título superior de que se trate.\n",
      "\n",
      "Si al término del contrato el trabajador continuase en la empresa no podrá concertarse un nuevo periodo de prueba, computándose la duración de las prácticas a efecto de antigüedad en la empresa.\n",
      "\n",
      "No se podrán celebrar contratos para la formación y el aprendizaje cuando el puesto de trabajo correspondiente al contrato haya sido desempeñado con anterioridad por el trabajador en la misma empresa por tiempo superior a doce meses.\n",
      "\n",
      "No obstante, también podrá recibir dicha formación en la propia empresa cuando la misma dispusiera de las instalaciones y el personal adecuados a los efectos de la acreditación de la competencia o cualificación profesional a que se refiere la letra e), sin perjuicio de la necesidad, en su caso, de la realización de periodos de formación complementarios en los centros de la red mencionada.\n",
      "\n",
      "El empresario y la representación de los trabajadores podrán acordar en cualquier momento la sustitución del periodo de consultas por el procedimiento de mediación o arbitraje que sea de aplicación en el ámbito de la empresa, que deberá desarrollarse dentro del plazo máximo señalado para dicho periodo.\n",
      "```\n",
      "\n"
     ]
    }
   ],
   "source": [
    "print(prompt)"
   ]
  },
  {
   "cell_type": "code",
   "execution_count": 175,
   "metadata": {},
   "outputs": [],
   "source": [
    "response = get_completion(prompt)"
   ]
  },
  {
   "cell_type": "code",
   "execution_count": 176,
   "metadata": {},
   "outputs": [],
   "source": [
    "import json\n",
    "\n",
    "evaluation_predict = json.loads(response)"
   ]
  },
  {
   "cell_type": "code",
   "execution_count": 177,
   "metadata": {},
   "outputs": [
    {
     "data": {
      "text/plain": [
       "[{'sentence': 'Los trabajos realizados a título de amistad, benevolencia o buena vecindad.',\n",
       "  'subject': 'trabajos',\n",
       "  'object': None,\n",
       "  'event': 'realizados',\n",
       "  'complement': 'a título de amistad, benevolencia o buena vecindad'},\n",
       " {'sentence': 'Las situaciones de incapacidad temporal, nacimiento, adopción, guarda con fines de adopción, acogimiento, riesgo durante el embarazo, riesgo durante la lactancia y violencia de género interrumpirán el cómputo de la duración del contrato.',\n",
       "  'subject': 'situaciones',\n",
       "  'object': None,\n",
       "  'event': 'interrumpirán',\n",
       "  'complement': 'el cómputo de la duración del contrato'},\n",
       " {'sentence': 'Si el trabajador tuviera asignadas condiciones o retribuciones especiales en virtud de contraprestaciones establecidas en la parte no válida del contrato, el órgano de la jurisdicción social que a instancia de parte declare la nulidad hará el debido pronunciamiento sobre la subsistencia o supresión en todo o en parte de dichas condiciones o retribuciones.',\n",
       "  'subject': 'órgano de la jurisdicción social',\n",
       "  'object': None,\n",
       "  'event': 'hará',\n",
       "  'complement': 'el debido pronunciamiento sobre la subsistencia o supresión en todo o en parte de dichas condiciones o retribuciones'},\n",
       " {'sentence': 'En caso de nulidad por discriminación salarial por razón de sexo, el trabajador tendrá derecho a la retribución correspondiente al trabajo igual o de igual valor.',\n",
       "  'subject': 'trabajador',\n",
       "  'object': None,\n",
       "  'event': 'tendrá',\n",
       "  'complement': 'derecho a la retribución correspondiente al trabajo igual o de igual valor'},\n",
       " {'sentence': 'Si el empresario diera un trabajo en común a un grupo de sus trabajadores, conservará respecto de cada uno, individualmente, sus derechos y deberes.',\n",
       "  'subject': 'empresario',\n",
       "  'object': None,\n",
       "  'event': 'conservará',\n",
       "  'complement': 'respecto de cada uno, individualmente, sus derechos y deberes'},\n",
       " {'sentence': 'El jefe del grupo ostentará la representación de los que lo integren, respondiendo de las obligaciones inherentes a dicha representación.',\n",
       "  'subject': 'jefe del grupo',\n",
       "  'object': None,\n",
       "  'event': 'ostentará',\n",
       "  'complement': 'la representación de los que lo integren, respondiendo de las obligaciones inherentes a dicha representación'},\n",
       " {'sentence': 'Si el empresario hubiese celebrado un contrato con un grupo de trabajadores considerado en su totalidad, no tendrá frente a cada uno de sus miembros los derechos y deberes que como tal le competen.',\n",
       "  'subject': 'empresario',\n",
       "  'object': None,\n",
       "  'event': 'tendrá',\n",
       "  'complement': 'frente a cada uno de sus miembros los derechos y deberes que como tal le competen'},\n",
       " {'sentence': 'Tampoco se podrá estar contratado en prácticas en la misma empresa para el mismo puesto de trabajo por tiempo superior a dos años, aunque se trate de distinta titulación o distinto certificado de profesionalidad.',\n",
       "  'subject': None,\n",
       "  'object': None,\n",
       "  'event': 'podrá estar contratado',\n",
       "  'complement': 'en prácticas en la misma empresa para el mismo puesto de trabajo por tiempo superior a dos años, aunque se trate de distinta titulación o distinto certificado de profesionalidad'},\n",
       " {'sentence': 'A los efectos de este artículo, los títulos de grado, máster y, en su caso, doctorado, correspondientes a los estudios universitarios no se considerarán la misma titulación, salvo que al ser contratado por primera vez mediante un contrato en prácticas el trabajador estuviera ya en posesión del título superior de que se trate.',\n",
       "  'subject': None,\n",
       "  'object': None,\n",
       "  'event': 'no se considerarán',\n",
       "  'complement': 'la misma titulación, salvo que al ser contratado por primera vez mediante un contrato en prácticas el trabajador estuviera ya en posesión del título superior de que se trate'},\n",
       " {'sentence': 'Si al término del contrato el trabajador continuase en la empresa no podrá concertarse un nuevo periodo de prueba, computándose la duración de las prácticas a efecto de antigüedad en la empresa.',\n",
       "  'subject': 'trabajador',\n",
       "  'object': None,\n",
       "  'event': 'no podrá concertarse',\n",
       "  'complement': 'un nuevo periodo de prueba, computándose la duración de las prácticas a efecto de antigüedad en la empresa'},\n",
       " {'sentence': 'No se podrán celebrar contratos para la formación y el aprendizaje cuando el puesto de trabajo correspondiente al contrato haya sido desempeñado con anterioridad por el trabajador en la misma empresa por tiempo superior a doce meses.',\n",
       "  'subject': None,\n",
       "  'object': None,\n",
       "  'event': 'no se podrán celebrar',\n",
       "  'complement': 'contratos para la formación y el aprendizaje cuando el puesto de trabajo correspondiente al contrato haya sido desempeñado con anterioridad por el trabajador en la misma empresa por tiempo superior a doce meses'},\n",
       " {'sentence': 'No obstante, también podrá recibir dicha formación en la propia empresa cuando la misma dispusiera de las instalaciones y el personal adecuados a los efectos de la acreditación de la competencia o cualificación profesional a que se refiere la letra e), sin perjuicio de la necesidad, en su caso, de la realización de periodos de formación complementarios en los centros de la red mencionada.',\n",
       "  'subject': None,\n",
       "  'object': None,\n",
       "  'event': 'podrá recibir',\n",
       "  'complement': 'dicha formación en la propia empresa cuando la misma dispusiera de las instalaciones y el personal adecuados a los efectos de la acreditación de la competencia o cualificación profesional a que se refiere la letra e), sin perjuicio de la necesidad, en su caso, de la realización de periodos de formación complementarios en los centros de la red mencionada'},\n",
       " {'sentence': 'El empresario y la representación de los trabajadores podrán acordar en cualquier momento la sustitución del periodo de consultas por el procedimiento de mediación o arbitraje que sea de aplicación en el ámbito de la empresa, que deberá desarrollarse dentro del plazo máximo señalado para dicho periodo.',\n",
       "  'subject': 'empresario y la representación de los trabajadores',\n",
       "  'object': None,\n",
       "  'event': 'podrán acordar',\n",
       "  'complement': 'la sustitución del periodo de consultas por el procedimiento de mediación o arbitraje que sea de aplicación en el ámbito de la empresa, que deberá desarrollarse dentro del plazo máximo señalado para dicho periodo'}]"
      ]
     },
     "execution_count": 177,
     "metadata": {},
     "output_type": "execute_result"
    }
   ],
   "source": [
    "evaluation_predict"
   ]
  },
  {
   "cell_type": "code",
   "execution_count": 178,
   "metadata": {},
   "outputs": [
    {
     "data": {
      "text/plain": [
       "{'TP': 4, 'TN': 0, 'FP': 0, 'FN': 9}"
      ]
     },
     "execution_count": 178,
     "metadata": {},
     "output_type": "execute_result"
    }
   ],
   "source": [
    "from utils.metrics import evaluate_label_metrics, calculate_metrics\n",
    "\n",
    "evaluate_label_metrics(evaluation_data, evaluation_predict, 'object')"
   ]
  },
  {
   "cell_type": "code",
   "execution_count": 138,
   "metadata": {},
   "outputs": [
    {
     "data": {
      "text/html": [
       "<div>\n",
       "<style scoped>\n",
       "    .dataframe tbody tr th:only-of-type {\n",
       "        vertical-align: middle;\n",
       "    }\n",
       "\n",
       "    .dataframe tbody tr th {\n",
       "        vertical-align: top;\n",
       "    }\n",
       "\n",
       "    .dataframe thead th {\n",
       "        text-align: right;\n",
       "    }\n",
       "</style>\n",
       "<table border=\"1\" class=\"dataframe\">\n",
       "  <thead>\n",
       "    <tr style=\"text-align: right;\">\n",
       "      <th></th>\n",
       "      <th>metrics</th>\n",
       "    </tr>\n",
       "  </thead>\n",
       "  <tbody>\n",
       "    <tr>\n",
       "      <th>accuracy</th>\n",
       "      <td>7.692308</td>\n",
       "    </tr>\n",
       "    <tr>\n",
       "      <th>precision</th>\n",
       "      <td>16.666667</td>\n",
       "    </tr>\n",
       "    <tr>\n",
       "      <th>recall</th>\n",
       "      <td>12.500000</td>\n",
       "    </tr>\n",
       "    <tr>\n",
       "      <th>f1</th>\n",
       "      <td>14.285714</td>\n",
       "    </tr>\n",
       "  </tbody>\n",
       "</table>\n",
       "</div>"
      ],
      "text/plain": [
       "             metrics\n",
       "accuracy    7.692308\n",
       "precision  16.666667\n",
       "recall     12.500000\n",
       "f1         14.285714"
      ]
     },
     "execution_count": 138,
     "metadata": {},
     "output_type": "execute_result"
    }
   ],
   "source": [
    "calculate_metrics(evaluate_label_metrics(evaluation_data, evaluation_predict, 'object'), as_df=True) * 100"
   ]
  },
  {
   "cell_type": "code",
   "execution_count": 126,
   "metadata": {},
   "outputs": [
    {
     "data": {
      "text/html": [
       "<div>\n",
       "<style scoped>\n",
       "    .dataframe tbody tr th:only-of-type {\n",
       "        vertical-align: middle;\n",
       "    }\n",
       "\n",
       "    .dataframe tbody tr th {\n",
       "        vertical-align: top;\n",
       "    }\n",
       "\n",
       "    .dataframe thead th {\n",
       "        text-align: right;\n",
       "    }\n",
       "</style>\n",
       "<table border=\"1\" class=\"dataframe\">\n",
       "  <thead>\n",
       "    <tr style=\"text-align: right;\">\n",
       "      <th></th>\n",
       "      <th>metrics</th>\n",
       "    </tr>\n",
       "  </thead>\n",
       "  <tbody>\n",
       "    <tr>\n",
       "      <th>accuracy</th>\n",
       "      <td>46.153846</td>\n",
       "    </tr>\n",
       "    <tr>\n",
       "      <th>precision</th>\n",
       "      <td>60.000000</td>\n",
       "    </tr>\n",
       "    <tr>\n",
       "      <th>recall</th>\n",
       "      <td>66.666667</td>\n",
       "    </tr>\n",
       "    <tr>\n",
       "      <th>f1</th>\n",
       "      <td>63.157895</td>\n",
       "    </tr>\n",
       "  </tbody>\n",
       "</table>\n",
       "</div>"
      ],
      "text/plain": [
       "             metrics\n",
       "accuracy   46.153846\n",
       "precision  60.000000\n",
       "recall     66.666667\n",
       "f1         63.157895"
      ]
     },
     "execution_count": 126,
     "metadata": {},
     "output_type": "execute_result"
    }
   ],
   "source": [
    "calculate_metrics(evaluate_label_metrics(evaluation_data, evaluation_predict, 'subject'), as_df=True) * 100"
   ]
  },
  {
   "cell_type": "code",
   "execution_count": 128,
   "metadata": {},
   "outputs": [
    {
     "data": {
      "text/html": [
       "<div>\n",
       "<style scoped>\n",
       "    .dataframe tbody tr th:only-of-type {\n",
       "        vertical-align: middle;\n",
       "    }\n",
       "\n",
       "    .dataframe tbody tr th {\n",
       "        vertical-align: top;\n",
       "    }\n",
       "\n",
       "    .dataframe thead th {\n",
       "        text-align: right;\n",
       "    }\n",
       "</style>\n",
       "<table border=\"1\" class=\"dataframe\">\n",
       "  <thead>\n",
       "    <tr style=\"text-align: right;\">\n",
       "      <th></th>\n",
       "      <th>metrics</th>\n",
       "    </tr>\n",
       "  </thead>\n",
       "  <tbody>\n",
       "    <tr>\n",
       "      <th>accuracy</th>\n",
       "      <td>76.923077</td>\n",
       "    </tr>\n",
       "    <tr>\n",
       "      <th>precision</th>\n",
       "      <td>76.923077</td>\n",
       "    </tr>\n",
       "    <tr>\n",
       "      <th>recall</th>\n",
       "      <td>100.000000</td>\n",
       "    </tr>\n",
       "    <tr>\n",
       "      <th>f1</th>\n",
       "      <td>86.956522</td>\n",
       "    </tr>\n",
       "  </tbody>\n",
       "</table>\n",
       "</div>"
      ],
      "text/plain": [
       "              metrics\n",
       "accuracy    76.923077\n",
       "precision   76.923077\n",
       "recall     100.000000\n",
       "f1          86.956522"
      ]
     },
     "execution_count": 128,
     "metadata": {},
     "output_type": "execute_result"
    }
   ],
   "source": [
    "calculate_metrics(evaluate_label_metrics(evaluation_data, evaluation_predict, 'event'), as_df=True) * 100"
   ]
  },
  {
   "cell_type": "code",
   "execution_count": 136,
   "metadata": {},
   "outputs": [
    {
     "data": {
      "text/html": [
       "<div>\n",
       "<style scoped>\n",
       "    .dataframe tbody tr th:only-of-type {\n",
       "        vertical-align: middle;\n",
       "    }\n",
       "\n",
       "    .dataframe tbody tr th {\n",
       "        vertical-align: top;\n",
       "    }\n",
       "\n",
       "    .dataframe thead th {\n",
       "        text-align: right;\n",
       "    }\n",
       "</style>\n",
       "<table border=\"1\" class=\"dataframe\">\n",
       "  <thead>\n",
       "    <tr style=\"text-align: right;\">\n",
       "      <th></th>\n",
       "      <th>metrics</th>\n",
       "    </tr>\n",
       "  </thead>\n",
       "  <tbody>\n",
       "    <tr>\n",
       "      <th>accuracy</th>\n",
       "      <td>7.692308</td>\n",
       "    </tr>\n",
       "    <tr>\n",
       "      <th>precision</th>\n",
       "      <td>12.500000</td>\n",
       "    </tr>\n",
       "    <tr>\n",
       "      <th>recall</th>\n",
       "      <td>16.666667</td>\n",
       "    </tr>\n",
       "    <tr>\n",
       "      <th>f1</th>\n",
       "      <td>14.285714</td>\n",
       "    </tr>\n",
       "  </tbody>\n",
       "</table>\n",
       "</div>"
      ],
      "text/plain": [
       "             metrics\n",
       "accuracy    7.692308\n",
       "precision  12.500000\n",
       "recall     16.666667\n",
       "f1         14.285714"
      ]
     },
     "execution_count": 136,
     "metadata": {},
     "output_type": "execute_result"
    }
   ],
   "source": [
    "calculate_metrics(evaluate_label_metrics(evaluation_data, evaluation_predict, 'complement', threshold=0.1), as_df=True) * 100"
   ]
  },
  {
   "cell_type": "code",
   "execution_count": 179,
   "metadata": {},
   "outputs": [
    {
     "name": "stdout",
     "output_type": "stream",
     "text": [
      "\n",
      "Subject - 0.4959087481146305\n",
      "Object - 0.3076923076923077\n",
      "Trigger - 0.769855144855145\n",
      "Complement - 0.10340487628435256\n",
      "\n"
     ]
    }
   ],
   "source": [
    "from utils.metrics import compute_average_similarity_score\n",
    "\n",
    "print(f'''\n",
    "Subject - {compute_average_similarity_score(evaluation_data, evaluation_predict, 'subject')}\n",
    "Object - {compute_average_similarity_score(evaluation_data, evaluation_predict, 'object')}\n",
    "Trigger - {compute_average_similarity_score(evaluation_data, evaluation_predict, 'event')}\n",
    "Complement - {compute_average_similarity_score(evaluation_data, evaluation_predict, 'complement')}\n",
    "''')\n"
   ]
  },
  {
   "attachments": {},
   "cell_type": "markdown",
   "metadata": {},
   "source": [
    "# Few-shot experiment"
   ]
  },
  {
   "cell_type": "code",
   "execution_count": 148,
   "metadata": {},
   "outputs": [],
   "source": [
    "train_data = evaluation_data[:3]\n",
    "few_evaluation_data = evaluation_data[3:]\n",
    "few_sentences = '\\n\\n'.join(s['text'] for s in few_evaluation_data)"
   ]
  },
  {
   "cell_type": "code",
   "execution_count": 145,
   "metadata": {},
   "outputs": [],
   "source": [
    "subject_train_data = \"\\n\".join(f\"`{s['text']}` -> {s['subject']}\" for s in train_data)\n",
    "object_train_data = \"\\n\".join(f\"`{s['text']}` -> {s['object']}\" for s in train_data)\n",
    "event_train_data = \"\\n\".join(f\"`{s['text']}` -> {s['event']}\" for s in train_data)\n",
    "complement_train_data = \"\\n\".join(f\"`{s['text']}` -> {s['complement']}\" for s in train_data)"
   ]
  },
  {
   "cell_type": "code",
   "execution_count": 165,
   "metadata": {},
   "outputs": [],
   "source": [
    "prompt = f'''\n",
    "We are interested in extracting event information from spanish legal text. For that, we define the following roles for an event. For each definition, 3 examples will be provided with the original sentece between simple backticks, an arrow and the correct role to extract.\n",
    "- subject: Agent of the action, who performs the action.\n",
    "{subject_train_data}\n",
    "- event trigger: Action\n",
    "{object_train_data}\n",
    "- object: Receiver of the action.\n",
    "{event_train_data}\n",
    "- complement: Item which is handled in the relation.\n",
    "{complement_train_data}\n",
    "\n",
    "Given a large set of sentences in spanish from the legal domain, written between triple backticks, your objective is to extract the roles from the text written in Spanish following the next steps:\n",
    "1. Identify each sentence in the corpus separated for new lines.\n",
    "2. In each sentence detect a subject entity, an object entity, an event trigger and a complement following the previous definitions and examples.\n",
    "3. The output of the task should be a list of dictionaries, each dictionary contains the following keys:\n",
    "    - sentence: the sentence\n",
    "    - subject: the subject entity\n",
    "    - object: the object entity\n",
    "    - event: the event trigger\n",
    "    - complement: the complement\n",
    "\n",
    "The set of sentences in spanish to use is the following:\n",
    "\n",
    "```\n",
    "{few_sentences}\n",
    "```\n",
    "'''"
   ]
  },
  {
   "cell_type": "code",
   "execution_count": 166,
   "metadata": {},
   "outputs": [
    {
     "name": "stdout",
     "output_type": "stream",
     "text": [
      "\n",
      "We are interested in extracting event information from spanish legal text. For that, we define the following roles for an event. For each definition, 3 examples will be provided with the original sentece between simple backticks, an arrow and the correct role to extract.\n",
      "- subject: Agent of the action, who performs the action.\n",
      "`Los trabajos realizados a título de amistad, benevolencia o buena vecindad.` -> vecindad\n",
      "`Las situaciones de incapacidad temporal, nacimiento, adopción, guarda con fines de adopción, acogimiento, riesgo durante el embarazo, riesgo durante la lactancia y violencia de género interrumpirán el cómputo de la duración del contrato.` -> contrato\n",
      "`Si el trabajador tuviera asignadas condiciones o retribuciones especiales en virtud de contraprestaciones establecidas en la parte no válida del contrato, el órgano de la jurisdicción social que a instancia de parte declare la nulidad hará el debido pronunciamiento sobre la subsistencia o supresión en todo o en parte de dichas condiciones o retribuciones.` -> órgano de la jurisdicción social\n",
      "- event trigger: Action\n",
      "`Los trabajos realizados a título de amistad, benevolencia o buena vecindad.` -> trabajos\n",
      "`Las situaciones de incapacidad temporal, nacimiento, adopción, guarda con fines de adopción, acogimiento, riesgo durante el embarazo, riesgo durante la lactancia y violencia de género interrumpirán el cómputo de la duración del contrato.` -> None\n",
      "`Si el trabajador tuviera asignadas condiciones o retribuciones especiales en virtud de contraprestaciones establecidas en la parte no válida del contrato, el órgano de la jurisdicción social que a instancia de parte declare la nulidad hará el debido pronunciamiento sobre la subsistencia o supresión en todo o en parte de dichas condiciones o retribuciones.` -> trabajador\n",
      "- object: Receiver of the action.\n",
      "`Los trabajos realizados a título de amistad, benevolencia o buena vecindad.` -> realizados\n",
      "`Las situaciones de incapacidad temporal, nacimiento, adopción, guarda con fines de adopción, acogimiento, riesgo durante el embarazo, riesgo durante la lactancia y violencia de género interrumpirán el cómputo de la duración del contrato.` -> interrumpirán\n",
      "`Si el trabajador tuviera asignadas condiciones o retribuciones especiales en virtud de contraprestaciones establecidas en la parte no válida del contrato, el órgano de la jurisdicción social que a instancia de parte declare la nulidad hará el debido pronunciamiento sobre la subsistencia o supresión en todo o en parte de dichas condiciones o retribuciones.` -> hará\n",
      "- complement: Item which is handled in the relation.\n",
      "`Los trabajos realizados a título de amistad, benevolencia o buena vecindad.` -> None\n",
      "`Las situaciones de incapacidad temporal, nacimiento, adopción, guarda con fines de adopción, acogimiento, riesgo durante el embarazo, riesgo durante la lactancia y violencia de género interrumpirán el cómputo de la duración del contrato.` -> None\n",
      "`Si el trabajador tuviera asignadas condiciones o retribuciones especiales en virtud de contraprestaciones establecidas en la parte no válida del contrato, el órgano de la jurisdicción social que a instancia de parte declare la nulidad hará el debido pronunciamiento sobre la subsistencia o supresión en todo o en parte de dichas condiciones o retribuciones.` -> pronunciamiento\n",
      "\n",
      "Given a large set of sentences in spanish from the legal domain, written between triple backticks, your objective is to extract the roles from the text written in Spanish following the next steps:\n",
      "1. Identify each sentence in the corpus separated for new lines.\n",
      "2. In each sentence detect a subject entity, an object entity, an event trigger and a complement following the previous definitions and examples.\n",
      "3. The output of the task should be a list of dictionaries, each dictionary contains the following keys:\n",
      "    - sentence: the sentence\n",
      "    - subject: the subject entity\n",
      "    - object: the object entity\n",
      "    - event: the event trigger\n",
      "    - complement: the complement\n",
      "\n",
      "The set of sentences in spanish to use is the following:\n",
      "\n",
      "```\n",
      "En caso de nulidad por discriminación salarial por razón de sexo, el trabajador tendrá derecho a la retribución correspondiente al trabajo igual o de igual valor.\n",
      "\n",
      "Si el empresario diera un trabajo en común a un grupo de sus trabajadores, conservará respecto de cada uno, individualmente, sus derechos y deberes.\n",
      "\n",
      "El jefe del grupo ostentará la representación de los que lo integren, respondiendo de las obligaciones inherentes a dicha representación.\n",
      "\n",
      "Si el empresario hubiese celebrado un contrato con un grupo de trabajadores considerado en su totalidad, no tendrá frente a cada uno de sus miembros los derechos y deberes que como tal le competen.\n",
      "\n",
      "Tampoco se podrá estar contratado en prácticas en la misma empresa para el mismo puesto de trabajo por tiempo superior a dos años, aunque se trate de distinta titulación o distinto certificado de profesionalidad.\n",
      "\n",
      "A los efectos de este artículo, los títulos de grado, máster y, en su caso, doctorado, correspondientes a los estudios universitarios no se considerarán la misma titulación, salvo que al ser contratado por primera vez mediante un contrato en prácticas el trabajador estuviera ya en posesión del título superior de que se trate.\n",
      "\n",
      "Si al término del contrato el trabajador continuase en la empresa no podrá concertarse un nuevo periodo de prueba, computándose la duración de las prácticas a efecto de antigüedad en la empresa.\n",
      "\n",
      "No se podrán celebrar contratos para la formación y el aprendizaje cuando el puesto de trabajo correspondiente al contrato haya sido desempeñado con anterioridad por el trabajador en la misma empresa por tiempo superior a doce meses.\n",
      "\n",
      "No obstante, también podrá recibir dicha formación en la propia empresa cuando la misma dispusiera de las instalaciones y el personal adecuados a los efectos de la acreditación de la competencia o cualificación profesional a que se refiere la letra e), sin perjuicio de la necesidad, en su caso, de la realización de periodos de formación complementarios en los centros de la red mencionada.\n",
      "\n",
      "El empresario y la representación de los trabajadores podrán acordar en cualquier momento la sustitución del periodo de consultas por el procedimiento de mediación o arbitraje que sea de aplicación en el ámbito de la empresa, que deberá desarrollarse dentro del plazo máximo señalado para dicho periodo.\n",
      "```\n",
      "\n"
     ]
    }
   ],
   "source": [
    "print(prompt)"
   ]
  },
  {
   "cell_type": "code",
   "execution_count": 167,
   "metadata": {},
   "outputs": [],
   "source": [
    "few_response = get_completion(prompt)"
   ]
  },
  {
   "cell_type": "code",
   "execution_count": 168,
   "metadata": {},
   "outputs": [
    {
     "name": "stdout",
     "output_type": "stream",
     "text": [
      "[\n",
      "    {\n",
      "        \"sentence\": \"En caso de nulidad por discriminación salarial por razón de sexo, el trabajador tendrá derecho a la retribución correspondiente al trabajo igual o de igual valor.\",\n",
      "        \"subject\": \"trabajador\",\n",
      "        \"object\": null,\n",
      "        \"event\": \"tendrá derecho\",\n",
      "        \"complement\": \"retribución correspondiente al trabajo igual o de igual valor\"\n",
      "    },\n",
      "    {\n",
      "        \"sentence\": \"Si el empresario diera un trabajo en común a un grupo de sus trabajadores, conservará respecto de cada uno, individualmente, sus derechos y deberes.\",\n",
      "        \"subject\": \"empresario\",\n",
      "        \"object\": null,\n",
      "        \"event\": \"conservará\",\n",
      "        \"complement\": \"respecto de cada uno, individualmente, sus derechos y deberes\"\n",
      "    },\n",
      "    {\n",
      "        \"sentence\": \"El jefe del grupo ostentará la representación de los que lo integren, respondiendo de las obligaciones inherentes a dicha representación.\",\n",
      "        \"subject\": \"jefe del grupo\",\n",
      "        \"object\": null,\n",
      "        \"event\": \"ostentará\",\n",
      "        \"complement\": \"la representación de los que lo integren, respondiendo de las obligaciones inherentes a dicha representación\"\n",
      "    },\n",
      "    {\n",
      "        \"sentence\": \"Si el empresario hubiese celebrado un contrato con un grupo de trabajadores considerado en su totalidad, no tendrá frente a cada uno de sus miembros los derechos y deberes que como tal le competen.\",\n",
      "        \"subject\": \"empresario\",\n",
      "        \"object\": null,\n",
      "        \"event\": \"no tendrá\",\n",
      "        \"complement\": \"frente a cada uno de sus miembros los derechos y deberes que como tal le competen\"\n",
      "    },\n",
      "    {\n",
      "        \"sentence\": \"Tampoco se podrá estar contratado en prácticas en la misma empresa para el mismo puesto de trabajo por tiempo superior a dos años, aunque se trate de distinta titulación o distinto certificado de profesionalidad.\",\n",
      "        \"subject\": null,\n",
      "        \"object\": null,\n",
      "        \"event\": \"se podrá estar contratado\",\n",
      "        \"complement\": \"en prácticas en la misma empresa para el mismo puesto de trabajo por tiempo superior a dos años, aunque se trate de distinta titulación o distinto certificado de profesionalidad\"\n",
      "    },\n",
      "    {\n",
      "        \"sentence\": \"A los efectos de este artículo, los títulos de grado, máster y, en su caso, doctorado, correspondientes a los estudios universitarios no se considerarán la misma titulación, salvo que al ser contratado por primera vez mediante un contrato en prácticas el trabajador estuviera ya en posesión del título superior de que se trate.\",\n",
      "        \"subject\": null,\n",
      "        \"object\": null,\n",
      "        \"event\": \"no se considerarán\",\n",
      "        \"complement\": \"la misma titulación, salvo que al ser contratado por primera vez mediante un contrato en prácticas el trabajador estuviera ya en posesión del título superior de que se trate\"\n",
      "    },\n",
      "    {\n",
      "        \"sentence\": \"Si al término del contrato el trabajador continuase en la empresa no podrá concertarse un nuevo periodo de prueba, computándose la duración de las prácticas a efecto de antigüedad en la empresa.\",\n",
      "        \"subject\": \"trabajador\",\n",
      "        \"object\": null,\n",
      "        \"event\": \"no podrá concertarse\",\n",
      "        \"complement\": \"un nuevo periodo de prueba, computándose la duración de las prácticas a efecto de antigüedad en la empresa\"\n",
      "    },\n",
      "    {\n",
      "        \"sentence\": \"No se podrán celebrar contratos para la formación y el aprendizaje cuando el puesto de trabajo correspondiente al contrato haya sido desempeñado con anterioridad por el trabajador en la misma empresa por tiempo superior a doce meses.\",\n",
      "        \"subject\": null,\n",
      "        \"object\": null,\n",
      "        \"event\": \"no se podrán celebrar\",\n",
      "        \"complement\": \"contratos para la formación y el aprendizaje cuando el puesto de trabajo correspondiente al contrato haya sido desempeñado con anterioridad por el trabajador en la misma empresa por tiempo superior a doce meses\"\n",
      "    },\n",
      "    {\n",
      "        \"sentence\": \"No obstante, también podrá recibir dicha formación en la propia empresa cuando la misma dispusiera de las instalaciones y el personal adecuados a los efectos de la acreditación de la competencia o cualificación profesional a que se refiere la letra e), sin perjuicio de la necesidad, en su caso, de la realización de periodos de formación complementarios en los centros de la red mencionada.\",\n",
      "        \"subject\": null,\n",
      "        \"object\": null,\n",
      "        \"event\": \"podrá recibir\",\n",
      "        \"complement\": \"dicha formación en la propia empresa cuando la misma dispusiera de las instalaciones y el personal adecuados a los efectos de la acreditación de la competencia o cualificación profesional a que se refiere la letra e), sin perjuicio de la necesidad, en su caso, de la realización de periodos de formación complementarios en los centros de la red mencionada\"\n",
      "    },\n",
      "    {\n",
      "        \"sentence\": \"El empresario y la representación de los trabajadores podrán acordar en cualquier momento la sustitución del periodo de consultas por el procedimiento de mediación o arbitraje que sea de aplicación en el ámbito de la empresa, que deberá desarrollarse dentro del plazo máximo señalado para dicho periodo.\",\n",
      "        \"subject\": \"empresario y la representación de los trabajadores\",\n",
      "        \"object\": null,\n",
      "        \"event\": \"podrán acordar\",\n",
      "        \"complement\": \"la sustitución del periodo de consultas por el procedimiento de mediación o arbitraje que sea de aplicación en el ámbito de la empresa, que deberá desarrollarse dentro del plazo máximo señalado para dicho periodo\"\n",
      "    }\n",
      "]\n"
     ]
    }
   ],
   "source": [
    "print(few_response)"
   ]
  },
  {
   "cell_type": "code",
   "execution_count": 169,
   "metadata": {},
   "outputs": [],
   "source": [
    "few_evaluation_predict = json.loads(few_response)"
   ]
  },
  {
   "cell_type": "code",
   "execution_count": 170,
   "metadata": {},
   "outputs": [
    {
     "name": "stdout",
     "output_type": "stream",
     "text": [
      "\n",
      "Subject - 0.52625\n",
      "Object - 0.3\n",
      "Trigger - 0.8003787878787879\n",
      "Complement - 0.12466322670728074\n",
      "\n"
     ]
    }
   ],
   "source": [
    "from utils.metrics import compute_average_similarity_score\n",
    "\n",
    "print(f'''\n",
    "Subject - {compute_average_similarity_score(few_evaluation_data, few_evaluation_predict, 'subject')}\n",
    "Object - {compute_average_similarity_score(few_evaluation_data, few_evaluation_predict, 'object')}\n",
    "Trigger - {compute_average_similarity_score(few_evaluation_data, few_evaluation_predict, 'event')}\n",
    "Complement - {compute_average_similarity_score(few_evaluation_data, few_evaluation_predict, 'complement')}\n",
    "''')\n"
   ]
  }
 ],
 "metadata": {
  "kernelspec": {
   "display_name": "event-extraction",
   "language": "python",
   "name": "python3"
  },
  "language_info": {
   "codemirror_mode": {
    "name": "ipython",
    "version": 3
   },
   "file_extension": ".py",
   "mimetype": "text/x-python",
   "name": "python",
   "nbconvert_exporter": "python",
   "pygments_lexer": "ipython3",
   "version": "3.9.16"
  },
  "orig_nbformat": 4
 },
 "nbformat": 4,
 "nbformat_minor": 2
}
