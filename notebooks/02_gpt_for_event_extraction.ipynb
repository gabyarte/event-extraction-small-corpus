{
 "cells": [
  {
   "cell_type": "code",
   "execution_count": 1,
   "metadata": {},
   "outputs": [],
   "source": [
    "%load_ext autoreload\n",
    "%autoreload 2"
   ]
  },
  {
   "cell_type": "code",
   "execution_count": 2,
   "metadata": {},
   "outputs": [],
   "source": [
    "import os\n",
    "import openai\n",
    "\n",
    "from dotenv import load_dotenv\n",
    "\n",
    "load_dotenv()\n",
    "\n",
    "openai.api_key = os.getenv('OPENAI_KEY')"
   ]
  },
  {
   "cell_type": "code",
   "execution_count": 3,
   "metadata": {},
   "outputs": [],
   "source": [
    "def get_completion(prompt, model=\"gpt-3.5-turbo\"):\n",
    "    messages = [{\"role\": \"user\", \"content\": prompt}]\n",
    "    response = openai.ChatCompletion.create(\n",
    "        model=model,\n",
    "        messages=messages,\n",
    "        temperature=0, # this is the degree of randomness of the model's output\n",
    "    )\n",
    "    return response.choices[0].message[\"content\"]"
   ]
  },
  {
   "attachments": {},
   "cell_type": "markdown",
   "metadata": {},
   "source": [
    "# First experiment"
   ]
  },
  {
   "cell_type": "code",
   "execution_count": null,
   "metadata": {},
   "outputs": [],
   "source": [
    "from utils.constants import STAGE_DIR\n",
    "\n",
    "with open(STAGE_DIR / '01_sentences.txt', 'r') as f:\n",
    "    sentences = f.readlines()"
   ]
  },
  {
   "cell_type": "code",
   "execution_count": 4,
   "metadata": {},
   "outputs": [],
   "source": [
    "sentences = '''\n",
    "Los trabajadores tienen como derechos básicos, con el contenido y alcance que para cada uno de los mismos disponga su específica normativa, los de Negociación colectiva\n",
    "\n",
    "Los trabajadores menores de dieciocho años no podrán realizar trabajos nocturnos ni aquellas actividades o puestos de trabajo respecto a los que se establezcan limitaciones a su contratación conforme a lo dispuesto en la Ley 31/1995, de 8 de noviembre, de Prevención de Riesgos Laborales, y en las normas reglamentarias aplicables\n",
    "\n",
    "Si el representante legal de una persona de capacidad limitada la autoriza expresa o tácitamente para realizar un trabajo, queda esta también autorizada para ejercitar los derechos y cumplir los deberes que se derivan de su contrato y para su cesación\n",
    "\n",
    "Podrán contratar la prestación de su trabajo Los extranjeros, de acuerdo con lo dispuesto en la legislación específica sobre la materia\n",
    "\n",
    "El contrato de trabajo se podrá celebrar por escrito o de palabra\n",
    "'''\n",
    "\n",
    "prompt = f'''\n",
    "Given a large set of sentences in spanish from the legal domain, written between triple backticks, your objective is to develop a spanish event extraction task. The steps to achieve it are the following:\n",
    "1. Identify each sentence in the corpus separated for new lines.\n",
    "2. In each sentence detect a subject entity, an object entity and an event trigger, usually in the form of a verb. It can happen that a sentence relates more than one object entity with the same subject and event trigger. The sentences can contain entities and phrases that don't correspond to any classification. Also, the object can be separated from the subject and event trigger by these complements. The definitions of each category are the following:\n",
    "    * event trigger: It refers to the action that is enforced by the legal text. It can be in a negative form, e.g. \"no pueden\".\n",
    "    * subject entity: It refers to the entity that most follow, do the action of the event trigger.\n",
    "    * object entity: It refers to the entity that is the receptor of the action. In the legal domain, it can be, for example, a right, a beneficiary from the action, an institution, a non-right, etc. \n",
    "    \n",
    "    Example 1:\n",
    "    Input: Cuando la relación laboral sea de duración superior a cuatro semanas, el empresario deberá informar por escrito, en los términos y plazos que se establezcan reglamentariamente, al trabajador sobre los elementos esenciales del contrato y las principales condiciones de ejecución de la prestación laboral, siempre que tales elementos y condiciones no figuren en el contrato de trabajo formalizado por escrito.\n",
    "    Output:\n",
    "        * subject entity: \"empresario\"\n",
    "        * object entity: \"trabajador\"\n",
    "        * event trigger: \"deberá informar por escrito\"\n",
    "        \n",
    "    Example 2:\n",
    "    Input: La denegación de la solicitud deberá ser notificada por el empresario al trabajador por escrito y de manera motivada.\n",
    "    Output:\n",
    "        * subject entity: \"empresario\"\n",
    "        * object entity: \"trabajador\"\n",
    "        * event trigger: \"deberá ser notificada\"\n",
    "\n",
    "3. The output of the task should be a list of dictionaries, each dictionary contains the following keys:\n",
    "    - sentence: the sentence\n",
    "    - subject: the subject entity\n",
    "    - object: the object entity\n",
    "    - event: the event trigger\n",
    "Note that it can be repeated sentences because of the different subject-event-object combinations.\n",
    "\n",
    "The set of sentences in spanish to use is the following:\n",
    "\n",
    "```\n",
    "{sentences}\n",
    "```\n",
    "'''"
   ]
  },
  {
   "cell_type": "code",
   "execution_count": 6,
   "metadata": {},
   "outputs": [
    {
     "data": {
      "text/plain": [
       "'Output:\\n```\\n[\\n    {\\n        \"sentence\": \"Los trabajadores tienen como derechos básicos, con el contenido y alcance que para cada uno de los mismos disponga su específica normativa, los de Negociación colectiva\",\\n        \"subject\": \"trabajadores\",\\n        \"object\": \"Negociación colectiva\",\\n        \"event\": \"tienen como derechos básicos\"\\n    },\\n    {\\n        \"sentence\": \"Los trabajadores menores de dieciocho años no podrán realizar trabajos nocturnos ni aquellas actividades o puestos de trabajo respecto a los que se establezcan limitaciones a su contratación conforme a lo dispuesto en la Ley 31/1995, de 8 de noviembre, de Prevención de Riesgos Laborales, y en las normas reglamentarias aplicables\",\\n        \"subject\": \"trabajadores menores de dieciocho años\",\\n        \"object\": \"trabajos nocturnos ni aquellas actividades o puestos de trabajo respecto a los que se establezcan limitaciones a su contratación\",\\n        \"event\": \"no podrán realizar\"\\n    },\\n    {\\n        \"sentence\": \"Si el representante legal de una persona de capacidad limitada la autoriza expresa o tácitamente para realizar un trabajo, queda esta también autorizada para ejercitar los derechos y cumplir los deberes que se derivan de su contrato y para su cesación\",\\n        \"subject\": \"representante legal de una persona de capacidad limitada\",\\n        \"object\": \"derechos y cumplir los deberes que se derivan de su contrato y para su cesación\",\\n        \"event\": \"autoriza\"\\n    },\\n    {\\n        \"sentence\": \"Podrán contratar la prestación de su trabajo Los extranjeros, de acuerdo con lo dispuesto en la legislación específica sobre la materia\",\\n        \"subject\": \"extranjeros\",\\n        \"object\": \"prestación de su trabajo\",\\n        \"event\": \"Podrán contratar\"\\n    },\\n    {\\n        \"sentence\": \"El contrato de trabajo se podrá celebrar por escrito o de palabra\",\\n        \"subject\": \"contrato de trabajo\",\\n        \"object\": \"\",\\n        \"event\": \"se podrá celebrar\"\\n    }\\n]\\n```'"
      ]
     },
     "execution_count": 6,
     "metadata": {},
     "output_type": "execute_result"
    }
   ],
   "source": [
    "response = get_completion(prompt)"
   ]
  },
  {
   "cell_type": "code",
   "execution_count": 7,
   "metadata": {},
   "outputs": [
    {
     "name": "stdout",
     "output_type": "stream",
     "text": [
      "Output:\n",
      "```\n",
      "[\n",
      "    {\n",
      "        \"sentence\": \"Los trabajadores tienen como derechos básicos, con el contenido y alcance que para cada uno de los mismos disponga su específica normativa, los de Negociación colectiva\",\n",
      "        \"subject\": \"trabajadores\",\n",
      "        \"object\": \"Negociación colectiva\",\n",
      "        \"event\": \"tienen como derechos básicos\"\n",
      "    },\n",
      "    {\n",
      "        \"sentence\": \"Los trabajadores menores de dieciocho años no podrán realizar trabajos nocturnos ni aquellas actividades o puestos de trabajo respecto a los que se establezcan limitaciones a su contratación conforme a lo dispuesto en la Ley 31/1995, de 8 de noviembre, de Prevención de Riesgos Laborales, y en las normas reglamentarias aplicables\",\n",
      "        \"subject\": \"trabajadores menores de dieciocho años\",\n",
      "        \"object\": \"trabajos nocturnos ni aquellas actividades o puestos de trabajo respecto a los que se establezcan limitaciones a su contratación\",\n",
      "        \"event\": \"no podrán realizar\"\n",
      "    },\n",
      "    {\n",
      "        \"sentence\": \"Si el representante legal de una persona de capacidad limitada la autoriza expresa o tácitamente para realizar un trabajo, queda esta también autorizada para ejercitar los derechos y cumplir los deberes que se derivan de su contrato y para su cesación\",\n",
      "        \"subject\": \"representante legal de una persona de capacidad limitada\",\n",
      "        \"object\": \"derechos y cumplir los deberes que se derivan de su contrato y para su cesación\",\n",
      "        \"event\": \"autoriza\"\n",
      "    },\n",
      "    {\n",
      "        \"sentence\": \"Podrán contratar la prestación de su trabajo Los extranjeros, de acuerdo con lo dispuesto en la legislación específica sobre la materia\",\n",
      "        \"subject\": \"extranjeros\",\n",
      "        \"object\": \"prestación de su trabajo\",\n",
      "        \"event\": \"Podrán contratar\"\n",
      "    },\n",
      "    {\n",
      "        \"sentence\": \"El contrato de trabajo se podrá celebrar por escrito o de palabra\",\n",
      "        \"subject\": \"contrato de trabajo\",\n",
      "        \"object\": \"\",\n",
      "        \"event\": \"se podrá celebrar\"\n",
      "    }\n",
      "]\n",
      "```\n"
     ]
    }
   ],
   "source": [
    "print(response)"
   ]
  },
  {
   "attachments": {},
   "cell_type": "markdown",
   "metadata": {},
   "source": [
    "# Experiments with `PlanTL-GOB-ES/RoBERTalex`"
   ]
  },
  {
   "cell_type": "code",
   "execution_count": null,
   "metadata": {},
   "outputs": [],
   "source": [
    "from transformers import AutoModelForMaskedLM\n",
    "from transformers import AutoTokenizer, FillMaskPipeline\n",
    "from pprint import pprint\n",
    "tokenizer_hf = AutoTokenizer.from_pretrained('PlanTL-GOB-ES/RoBERTalex')\n",
    "model = AutoModelForMaskedLM.from_pretrained('PlanTL-GOB-ES/RoBERTalex')\n",
    "model.eval()\n",
    "pipeline = FillMaskPipeline(model, tokenizer_hf)\n",
    "text = f\"¡Hola <mask>!\"\n",
    "res_hf = pipeline(text)\n",
    "pprint([r['token_str'] for r in res_hf])"
   ]
  },
  {
   "cell_type": "code",
   "execution_count": null,
   "metadata": {},
   "outputs": [],
   "source": [
    "tokenizer_hf = AutoTokenizer.from_pretrained('PlanTL-GOB-ES/RoBERTalex')\n",
    "model = AutoModelForMaskedLM.from_pretrained('PlanTL-GOB-ES/RoBERTalex')\n",
    "model.eval()\n",
    "pipeline = FillMaskPipeline(model, tokenizer_hf)\n",
    "text = f\"El contrato de trabajo se podrá <mask>\"\n",
    "res_hf = pipeline(text)\n",
    "\n",
    "pprint([r['token_str'] for r in res_hf])"
   ]
  },
  {
   "cell_type": "code",
   "execution_count": null,
   "metadata": {},
   "outputs": [],
   "source": [
    "print(res_hf)"
   ]
  },
  {
   "cell_type": "code",
   "execution_count": null,
   "metadata": {},
   "outputs": [],
   "source": [
    "seed = f\"El contrato de trabajo se podrá <mask>\"\n",
    "i = 10\n",
    "while i:\n",
    "    tokenizer_hf = AutoTokenizer.from_pretrained('PlanTL-GOB-ES/RoBERTalex')\n",
    "    model = AutoModelForMaskedLM.from_pretrained('PlanTL-GOB-ES/RoBERTalex')\n",
    "    model.eval()\n",
    "    pipeline = FillMaskPipeline(model, tokenizer_hf)\n",
    "    res_hf = pipeline(seed)\n",
    "    max_score_sequence = max(res_hf, key=lambda x: x['score'])['sequence']\n",
    "    seed = max_score_sequence + ' <mask>'\n",
    "    i -= 1\n",
    "\n",
    "print(seed)"
   ]
  },
  {
   "cell_type": "code",
   "execution_count": null,
   "metadata": {},
   "outputs": [],
   "source": [
    "from transformers import AutoTokenizer, AutoModelForCausalLM, pipeline, set_seed\n",
    "tokenizer = AutoTokenizer.from_pretrained(\"PlanTL-GOB-ES/gpt2-large-bne\")\n",
    "model = AutoModelForCausalLM.from_pretrained(\"PlanTL-GOB-ES/gpt2-large-bne\")\n",
    "generator = pipeline('text-generation', tokenizer=tokenizer, model=model)\n",
    "set_seed(42)\n",
    "generator(\"Los  \", num_return_sequences=5)"
   ]
  }
 ],
 "metadata": {
  "kernelspec": {
   "display_name": "event-extraction",
   "language": "python",
   "name": "python3"
  },
  "language_info": {
   "codemirror_mode": {
    "name": "ipython",
    "version": 3
   },
   "file_extension": ".py",
   "mimetype": "text/x-python",
   "name": "python",
   "nbconvert_exporter": "python",
   "pygments_lexer": "ipython3",
   "version": "3.9.16"
  },
  "orig_nbformat": 4
 },
 "nbformat": 4,
 "nbformat_minor": 2
}
