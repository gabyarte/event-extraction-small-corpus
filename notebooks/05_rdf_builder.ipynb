{
 "cells": [
  {
   "cell_type": "code",
   "execution_count": 1,
   "metadata": {},
   "outputs": [],
   "source": [
    "%load_ext autoreload\n",
    "%autoreload 2"
   ]
  },
  {
   "cell_type": "code",
   "execution_count": null,
   "metadata": {},
   "outputs": [],
   "source": [
    "# :"
   ]
  },
  {
   "cell_type": "code",
   "execution_count": 35,
   "metadata": {},
   "outputs": [
    {
     "name": "stderr",
     "output_type": "stream",
     "text": [
      "INFO | 2023-07-14 11:40:30,275 | Parallelization is not supported for win32 when running as a library. If you need to speed up your data integration pipeline, please run through the command line.\n",
      "INFO | 2023-07-14 11:40:32,760 | 80 mapping rules retrieved.\n",
      "INFO | 2023-07-14 11:40:32,818 | Mapping partition with 1 groups generated.\n",
      "INFO | 2023-07-14 11:40:32,819 | Maximum number of rules within mapping group: 80.\n",
      "INFO | 2023-07-14 11:40:32,820 | Mappings processed in 2.540 seconds.\n",
      "INFO | 2023-07-14 11:40:33,558 | Number of triples generated in total: 8378.\n"
     ]
    }
   ],
   "source": [
    "import morph_kgc\n",
    "\n",
    "config = '''\n",
    "[DataSourceCSV]\n",
    "mappings=../src/rdf/statute-mapping.ttl\n",
    "\n",
    "[CONFIGURATION]\n",
    "output_file=../data/analysis/knowledge-graph/statute-events-rdf.nt\n",
    "'''\n",
    "\n",
    "rdf_graph = morph_kgc.materialize(config)"
   ]
  },
  {
   "cell_type": "code",
   "execution_count": 38,
   "metadata": {},
   "outputs": [
    {
     "name": "stderr",
     "output_type": "stream",
     "text": [
      "c:\\Users\\gabya\\anaconda3\\envs\\event-extraction\\lib\\site-packages\\rdflib\\plugins\\serializers\\nt.py:40: UserWarning: NTSerializer always uses UTF-8 encoding. Given encoding was: None\n",
      "  warnings.warn(\n"
     ]
    },
    {
     "data": {
      "text/plain": [
       "<Graph identifier=Nf6cf10bc18844335919dfa81bb1de787 (<class 'rdflib.graph.Graph'>)>"
      ]
     },
     "execution_count": 38,
     "metadata": {},
     "output_type": "execute_result"
    }
   ],
   "source": [
    "rdf_graph.serialize('../data/analysis/knowledge-graph/statute-events-rdf.nt', 'nt')"
   ]
  },
  {
   "cell_type": "markdown",
   "metadata": {},
   "source": [
    "# Query"
   ]
  },
  {
   "cell_type": "code",
   "execution_count": 47,
   "metadata": {},
   "outputs": [],
   "source": [
    "from rdflib import Graph\n",
    "from rdflib.plugins.sparql import prepareQuery"
   ]
  },
  {
   "cell_type": "code",
   "execution_count": 45,
   "metadata": {},
   "outputs": [
    {
     "data": {
      "text/plain": [
       "<Graph identifier=N6d4e85bca5774d3cb429149af406ca94 (<class 'rdflib.graph.Graph'>)>"
      ]
     },
     "execution_count": 45,
     "metadata": {},
     "output_type": "execute_result"
    }
   ],
   "source": [
    "g = Graph()\n",
    "g.parse('../data/analysis/knowledge-graph/statute-events-rdf.ttl', format='turtle')"
   ]
  },
  {
   "cell_type": "markdown",
   "metadata": {},
   "source": [
    "¿De qué maneras puede un empleado pagar el salario de sus empleados?\n",
    "\n",
    "*What are the ways that an employer has to pay to his workers?*"
   ]
  },
  {
   "cell_type": "code",
   "execution_count": 83,
   "metadata": {},
   "outputs": [
    {
     "name": "stdout",
     "output_type": "stream",
     "text": [
      "El emplesario podrá efectuarlo (el pago del salario) en moneda de curso legal\n",
      "El emplesario podrá efectuarlo (el pago del salario) en cheque\n",
      "El emplesario podrá efectuarlo (el pago del salario) en modalidad de pago similar\n",
      "El emplesario podrá efectuarlo (el pago del salario) en entidades de crédito\n",
      "El emplesario podrá efectuarlo (el pago del salario) en informe al comité de empresa\n",
      "El emplesario podrá efectuarlo (el pago del salario) en delegados de personal\n"
     ]
    }
   ],
   "source": [
    "from rdflib.namespace import RDFS\n",
    "\n",
    "namespaces = {\n",
    "    'ns1': 'http://semanticweb.cs.vu.nl/2009/11/sem/',\n",
    "    'ns2': 'http://www.ittig.cnr.it/ontologies/def/ProvisionModel#',\n",
    "    'rdfs': RDFS\n",
    "}\n",
    "\n",
    "worker_rights_query = prepareQuery(\n",
    "'''\n",
    "    SELECT ?rightAction ?rightComplement\n",
    "    WHERE {{\n",
    "            ?subject a ns1:Actor .\n",
    "            ?subject rdfs:label \"empresario\" .\n",
    "            ?rightRelation a ns2:Right .\n",
    "            ?rightRelation ns2:hasRightBearer ?subject .\n",
    "            ?rightRelation ns2:hasRightCounterpart ?object .\n",
    "            ?object rdfs:label \"salario\" .\n",
    "            ?rightRelation ns2:hasRightAction ?action .\n",
    "            ?action rdfs:label ?rightAction .\n",
    "            ?rightRelation ns2:hasRightObject ?complement .\n",
    "            ?complement rdfs:label ?rightComplement .\n",
    "    }}\n",
    "''', initNs=namespaces)\n",
    "\n",
    "# Visualize the results\n",
    "for r in g.query(worker_rights_query):\n",
    "    print(f'El emplesario {r.rightAction} (el pago del salario) en {r.rightComplement}')"
   ]
  },
  {
   "cell_type": "markdown",
   "metadata": {},
   "source": [
    "¿Qué deberes tiene el empresario para/con sus trabajadores?\n",
    "\n",
    "*What duties an employer has towards his workers?*"
   ]
  },
  {
   "cell_type": "code",
   "execution_count": 90,
   "metadata": {},
   "outputs": [
    {
     "name": "stdout",
     "output_type": "stream",
     "text": [
      "El empleado ofrecer horas complementarias a trabajadores.\n",
      "El empleado pondrá a disposición salarios devengados en los días intermedios a trabajadores.\n"
     ]
    }
   ],
   "source": [
    "from rdflib.namespace import RDFS\n",
    "\n",
    "namespaces = {\n",
    "    'ns1': 'http://semanticweb.cs.vu.nl/2009/11/sem/',\n",
    "    'ns2': 'http://www.ittig.cnr.it/ontologies/def/ProvisionModel#',\n",
    "    'rdfs': RDFS\n",
    "}\n",
    "\n",
    "employer_duty_worker_query = prepareQuery(\n",
    "'''\n",
    "    SELECT ?dutyAction ?dutyComplement\n",
    "    WHERE {{\n",
    "            ?subject a ns1:Actor .\n",
    "            ?subject rdfs:label \"empresario\" .\n",
    "            ?dutyRelation a ns2:Duty .\n",
    "            ?dutyRelation ns2:hasDutyBearer ?subject .\n",
    "            ?dutyRelation ns2:hasDutyCounterpart ?object .\n",
    "            ?object rdfs:label \"trabajador\" .\n",
    "            ?dutyRelation ns2:hasDutyAction ?action .\n",
    "            ?action rdfs:label ?dutyAction .\n",
    "            ?dutyRelation ns2:hasDutyObject ?complement .\n",
    "            ?complement rdfs:label ?dutyComplement .\n",
    "    }}\n",
    "''', initNs=namespaces)\n",
    "\n",
    "# Visualize the results\n",
    "for r in g.query(employer_duty_worker_query):\n",
    "    print(f'El empleado {r.dutyAction} {r.dutyComplement} a trabajadores.')"
   ]
  }
 ],
 "metadata": {
  "kernelspec": {
   "display_name": "event-extraction",
   "language": "python",
   "name": "python3"
  },
  "language_info": {
   "codemirror_mode": {
    "name": "ipython",
    "version": 3
   },
   "file_extension": ".py",
   "mimetype": "text/x-python",
   "name": "python",
   "nbconvert_exporter": "python",
   "pygments_lexer": "ipython3",
   "version": "3.9.16"
  },
  "orig_nbformat": 4
 },
 "nbformat": 4,
 "nbformat_minor": 2
}
